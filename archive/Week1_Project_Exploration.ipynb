{
 "cells": [
  {
   "cell_type": "code",
   "execution_count": 1,
   "id": "220ac1b8-3900-46d5-b197-54263a6bd83c",
   "metadata": {
    "scrolled": true
   },
   "outputs": [
    {
     "name": "stdout",
     "output_type": "stream",
     "text": [
      "Dataset loaded successfully! Here's the initial exploration:\n",
      "\n",
      "----------- 1. Dataset Info -----------\n",
      "<class 'pandas.core.frame.DataFrame'>\n",
      "RangeIndex: 5 entries, 0 to 4\n",
      "Data columns (total 4 columns):\n",
      " #   Column              Non-Null Count  Dtype  \n",
      "---  ------              --------------  -----  \n",
      " 0   method              5 non-null      object \n",
      " 1   energy_mean_μJ      5 non-null      float64\n",
      " 2   time_mean_s         5 non-null      float64\n",
      " 3   carbon_mean_gCO2eq  5 non-null      float64\n",
      "dtypes: float64(3), object(1)\n",
      "memory usage: 292.0+ bytes\n",
      "\n",
      "\n",
      "----------- 2. Statistical Summary -----------\n",
      "       energy_mean_μJ  time_mean_s  carbon_mean_gCO2eq\n",
      "count    5.000000e+00     5.000000            5.000000\n",
      "mean     4.076881e+07     7.323600            0.019600\n",
      "std      2.354557e+07     4.512036            0.010991\n",
      "min      1.791987e+07     2.898000            0.009000\n",
      "25%      2.666747e+07     4.581000            0.013000\n",
      "50%      2.674609e+07     4.767000            0.013000\n",
      "75%      6.558652e+07    11.684000            0.031000\n",
      "max      6.692408e+07    12.688000            0.032000\n",
      "\n",
      "\n",
      "----------- 3. Missing Values Check -----------\n",
      "method                0\n",
      "energy_mean_μJ        0\n",
      "time_mean_s           0\n",
      "carbon_mean_gCO2eq    0\n",
      "dtype: int64\n"
     ]
    }
   ],
   "source": [
    "# 1. Import the pandas library\n",
    "import pandas as pd\n",
    "\n",
    "# 2. Load the dataset\n",
    "# This path assumes your notebook is in the main directory and the 'analysis' folder is inside it.\n",
    "file_path = 'analysis/energy_vs_carbon_vs_time.csv'\n",
    "df = pd.read_csv(file_path)\n",
    "\n",
    "print(\"Dataset loaded successfully! Here's the initial exploration:\\n\")\n",
    "\n",
    "# 3. Explore the dataset\n",
    "\n",
    "# --- .info() ---\n",
    "# Get a technical summary of the data.\n",
    "print(\"----------- 1. Dataset Info -----------\")\n",
    "df.info()\n",
    "\n",
    "# --- .describe() ---\n",
    "# Get a statistical summary of the numerical columns.\n",
    "print(\"\\n\\n----------- 2. Statistical Summary -----------\")\n",
    "print(df.describe())\n",
    "\n",
    "# --- .isnull().sum() ---\n",
    "# Check for any missing values.\n",
    "print(\"\\n\\n----------- 3. Missing Values Check -----------\")\n",
    "print(df.isnull().sum())"
   ]
  },
  {
   "cell_type": "code",
   "execution_count": null,
   "id": "885b216c-0f5b-4729-9a20-f69e9b6d1464",
   "metadata": {},
   "outputs": [],
   "source": []
  }
 ],
 "metadata": {
  "kernelspec": {
   "display_name": "Python 3 (ipykernel)",
   "language": "python",
   "name": "python3"
  },
  "language_info": {
   "codemirror_mode": {
    "name": "ipython",
    "version": 3
   },
   "file_extension": ".py",
   "mimetype": "text/x-python",
   "name": "python",
   "nbconvert_exporter": "python",
   "pygments_lexer": "ipython3",
   "version": "3.13.5"
  }
 },
 "nbformat": 4,
 "nbformat_minor": 5
}
