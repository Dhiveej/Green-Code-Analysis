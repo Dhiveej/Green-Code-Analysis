{
 "cells": [
  {
   "cell_type": "code",
   "execution_count": 1,
   "id": "3f6a1a6e",
   "metadata": {},
   "outputs": [
    {
     "name": "stdout",
     "output_type": "stream",
     "text": [
      "Master DataFrame created and cleaned successfully!\n",
      "<class 'pandas.core.frame.DataFrame'>\n",
      "RangeIndex: 73 entries, 0 to 72\n",
      "Data columns (total 4 columns):\n",
      " #   Column     Non-Null Count  Dtype  \n",
      "---  ------     --------------  -----  \n",
      " 0   benchmark  73 non-null     object \n",
      " 1   energy_uJ  73 non-null     float64\n",
      " 2   time_s     73 non-null     float64\n",
      " 3   method     73 non-null     object \n",
      "dtypes: float64(2), object(2)\n",
      "memory usage: 2.4+ KB\n",
      "\n",
      "Here are the first few rows:\n"
     ]
    },
    {
     "data": {
      "text/html": [
       "<div>\n",
       "<style scoped>\n",
       "    .dataframe tbody tr th:only-of-type {\n",
       "        vertical-align: middle;\n",
       "    }\n",
       "\n",
       "    .dataframe tbody tr th {\n",
       "        vertical-align: top;\n",
       "    }\n",
       "\n",
       "    .dataframe thead th {\n",
       "        text-align: right;\n",
       "    }\n",
       "</style>\n",
       "<table border=\"1\" class=\"dataframe\">\n",
       "  <thead>\n",
       "    <tr style=\"text-align: right;\">\n",
       "      <th></th>\n",
       "      <th>benchmark</th>\n",
       "      <th>energy_uJ</th>\n",
       "      <th>time_s</th>\n",
       "      <th>method</th>\n",
       "    </tr>\n",
       "  </thead>\n",
       "  <tbody>\n",
       "    <tr>\n",
       "      <th>0</th>\n",
       "      <td>spectral_norm_cpython</td>\n",
       "      <td>1.830802e+07</td>\n",
       "      <td>3.679777</td>\n",
       "      <td>cpython</td>\n",
       "    </tr>\n",
       "    <tr>\n",
       "      <th>1</th>\n",
       "      <td>pi_digits_cpython</td>\n",
       "      <td>7.362654e+04</td>\n",
       "      <td>0.010858</td>\n",
       "      <td>cpython</td>\n",
       "    </tr>\n",
       "    <tr>\n",
       "      <th>2</th>\n",
       "      <td>hanoi_cpython</td>\n",
       "      <td>3.664501e+07</td>\n",
       "      <td>5.192964</td>\n",
       "      <td>cpython</td>\n",
       "    </tr>\n",
       "    <tr>\n",
       "      <th>3</th>\n",
       "      <td>reverse_complement_cpython</td>\n",
       "      <td>1.687096e+07</td>\n",
       "      <td>3.301314</td>\n",
       "      <td>cpython</td>\n",
       "    </tr>\n",
       "    <tr>\n",
       "      <th>4</th>\n",
       "      <td>nbody_cpython</td>\n",
       "      <td>2.853430e+08</td>\n",
       "      <td>53.074761</td>\n",
       "      <td>cpython</td>\n",
       "    </tr>\n",
       "  </tbody>\n",
       "</table>\n",
       "</div>"
      ],
      "text/plain": [
       "                    benchmark     energy_uJ     time_s   method\n",
       "0       spectral_norm_cpython  1.830802e+07   3.679777  cpython\n",
       "1           pi_digits_cpython  7.362654e+04   0.010858  cpython\n",
       "2               hanoi_cpython  3.664501e+07   5.192964  cpython\n",
       "3  reverse_complement_cpython  1.687096e+07   3.301314  cpython\n",
       "4               nbody_cpython  2.853430e+08  53.074761  cpython"
      ]
     },
     "execution_count": 1,
     "metadata": {},
     "output_type": "execute_result"
    }
   ],
   "source": [
    "# --- Step 1: Create a Master DataFrame from Raw Data (Final Version) ---\n",
    "\n",
    "import pandas as pd\n",
    "import os\n",
    "\n",
    "base_path = '.' \n",
    "\n",
    "methods = ['cpython', 'ctypes', 'cython', 'pycompile', 'pypy']\n",
    "all_data_list = []\n",
    "\n",
    "for method in methods:\n",
    "    df_energy_avg = pd.read_csv(os.path.join(base_path, method, 'energy_avg.csv'))\n",
    "    df_time_avg = pd.read_csv(os.path.join(base_path, method, 'time_avg.csv'))\n",
    "    \n",
    "    # THE FIX: Merge on the correct column name, 'filename'\n",
    "    merged_df = pd.merge(df_energy_avg, df_time_avg, on='filename')\n",
    "    merged_df['method'] = method\n",
    "    \n",
    "    all_data_list.append(merged_df)\n",
    "\n",
    "# Concatenate all the dataframes into one master dataframe\n",
    "master_df = pd.concat(all_data_list, ignore_index=True)\n",
    "\n",
    "# PRO-TIP: Rename the columns to make them cleaner and easier to use\n",
    "master_df = master_df.rename(columns={\n",
    "    'filename': 'benchmark', \n",
    "    'average_package (uJ)': 'energy_uJ',\n",
    "    'execution_time (s)': 'time_s'\n",
    "})\n",
    "\n",
    "print(\"Master DataFrame created and cleaned successfully!\")\n",
    "master_df.info()\n",
    "print(\"\\nHere are the first few rows:\")\n",
    "master_df.head()"
   ]
  },
  {
   "cell_type": "code",
   "execution_count": 2,
   "id": "2b65586d",
   "metadata": {},
   "outputs": [
    {
     "name": "stdout",
     "output_type": "stream",
     "text": [
      "Data split complete!\n",
      "Shape of X_train: (58, 2)\n",
      "Shape of X_test: (15, 2)\n"
     ]
    }
   ],
   "source": [
    "from sklearn.model_selection import train_test_split\n",
    "\n",
    "# --- Step 2: Define Features (X) and Target (y) ---\n",
    "\n",
    "# The features are the columns the model will use as clues\n",
    "features = ['energy_uJ', 'time_s']\n",
    "X = master_df[features]\n",
    "\n",
    "# The target is the column we want the model to predict\n",
    "y = master_df['method']\n",
    "\n",
    "\n",
    "# --- Split the data into training and testing sets ---\n",
    "\n",
    "# We'll use 80% of the data for training and 20% for testing.\n",
    "# random_state=42 ensures that the split is the same every time we run the code.\n",
    "X_train, X_test, y_train, y_test = train_test_split(\n",
    "    X, y, test_size=0.2, random_state=42\n",
    ")\n",
    "\n",
    "print(\"Data split complete!\")\n",
    "print(f\"Shape of X_train: {X_train.shape}\")\n",
    "print(f\"Shape of X_test: {X_test.shape}\")"
   ]
  },
  {
   "cell_type": "code",
   "execution_count": 3,
   "id": "84cd289a",
   "metadata": {},
   "outputs": [
    {
     "name": "stdout",
     "output_type": "stream",
     "text": [
      "Model training complete!\n"
     ]
    }
   ],
   "source": [
    "from sklearn.tree import DecisionTreeClassifier\n",
    "\n",
    "# --- Step 3: Initialize and Train the Model ---\n",
    "\n",
    "# Create an instance of the Decision Tree model\n",
    "# random_state=42 ensures the results are the same each time\n",
    "model = DecisionTreeClassifier(random_state=42)\n",
    "\n",
    "# Train the model on the training data\n",
    "# This is where the model learns the patterns between the features and the target\n",
    "model.fit(X_train, y_train)\n",
    "\n",
    "print(\"Model training complete!\")"
   ]
  },
  {
   "cell_type": "code",
   "execution_count": 4,
   "id": "c82ca42a",
   "metadata": {},
   "outputs": [
    {
     "name": "stdout",
     "output_type": "stream",
     "text": [
      "Model Accuracy: 13.33%\n",
      "\n",
      "Confusion Matrix:\n"
     ]
    },
    {
     "data": {
      "image/png": "[encoded data removed]",
      "text/plain": [
       "<Figure size 800x600 with 2 Axes>"
      ]
     },
     "metadata": {},
     "output_type": "display_data"
    }
   ],
   "source": [
    "from sklearn.metrics import accuracy_score, confusion_matrix\n",
    "import seaborn as sns\n",
    "import matplotlib.pyplot as plt\n",
    "\n",
    "# --- Step 4: Make Predictions and Evaluate ---\n",
    "\n",
    "# 1. Use the trained model to make predictions on the test data\n",
    "y_pred = model.predict(X_test)\n",
    "\n",
    "# 2. Calculate the accuracy score\n",
    "accuracy = accuracy_score(y_test, y_pred)\n",
    "print(f\"Model Accuracy: {accuracy * 100:.2f}%\")\n",
    "\n",
    "# 3. Create a confusion matrix for a more detailed look\n",
    "# This shows a grid of true vs. predicted labels\n",
    "print(\"\\nConfusion Matrix:\")\n",
    "conf_matrix = confusion_matrix(y_test, y_pred, labels=model.classes_)\n",
    "\n",
    "# For a nicer visual, we can plot the confusion matrix as a heatmap\n",
    "plt.figure(figsize=(8, 6))\n",
    "sns.heatmap(conf_matrix, annot=True, fmt='d', cmap='Blues', \n",
    "            xticklabels=model.classes_, yticklabels=model.classes_)\n",
    "plt.xlabel('Predicted Label')\n",
    "plt.ylabel('True Label')\n",
    "plt.title('Confusion Matrix')\n",
    "plt.show()"
   ]
  },
  {
   "cell_type": "markdown",
   "id": "33f866aa",
   "metadata": {},
   "source": [
    "## Step 5: Improving Accuracy with a Random Forest Model\n",
    "Now that we have a baseline performance from the Decision Tree, let's see if a more powerful model like a Random Forest can achieve a better accuracy score on this dataset."
   ]
  },
  {
   "cell_type": "code",
   "execution_count": 5,
   "id": "269a8c4f",
   "metadata": {},
   "outputs": [
    {
     "name": "stdout",
     "output_type": "stream",
     "text": [
      "Random Forest model training complete!\n",
      "\n",
      "Random Forest Model Accuracy: 13.33%\n"
     ]
    }
   ],
   "source": [
    "from sklearn.ensemble import RandomForestClassifier\n",
    "from sklearn.metrics import accuracy_score\n",
    "\n",
    "# --- Step 1: Initialize and Train the Random Forest Model ---\n",
    "\n",
    "# Create an instance of the Random Forest model\n",
    "# n_estimators=100 means we'll build a forest of 100 trees\n",
    "rf_model = RandomForestClassifier(n_estimators=100, random_state=42)\n",
    "\n",
    "# Train the model on the same training data\n",
    "rf_model.fit(X_train, y_train)\n",
    "\n",
    "print(\"Random Forest model training complete!\")\n",
    "\n",
    "\n",
    "# --- Step 2: Evaluate the New Model ---\n",
    "\n",
    "# Use the new model to make predictions on the test data\n",
    "y_pred_rf = rf_model.predict(X_test)\n",
    "\n",
    "# Calculate the new accuracy score\n",
    "accuracy_rf = accuracy_score(y_test, y_pred_rf)\n",
    "\n",
    "print(f\"\\nRandom Forest Model Accuracy: {accuracy_rf * 100:.2f}%\")"
   ]
  },
  {
   "cell_type": "code",
   "execution_count": 6,
   "id": "8e9ccdbd",
   "metadata": {},
   "outputs": [
    {
     "name": "stdout",
     "output_type": "stream",
     "text": [
      "Final Model Accuracy: 13.33%\n",
      "\n",
      "Model saved successfully as 'green_code_classifier.joblib'\n"
     ]
    }
   ],
   "source": [
    "# --- Final Model Training & Saving Script ---\n",
    "\n",
    "import pandas as pd\n",
    "import os\n",
    "import joblib\n",
    "from sklearn.model_selection import train_test_split\n",
    "from sklearn.ensemble import RandomForestClassifier\n",
    "from sklearn.metrics import accuracy_score\n",
    "\n",
    "# 1. Load and prepare the data from the 'Python Energy Microscope' dataset\n",
    "base_path = '.' \n",
    "methods = ['cpython', 'ctypes', 'cython', 'pycompile', 'pypy']\n",
    "all_data_list = []\n",
    "for method in methods:\n",
    "    df_energy_avg = pd.read_csv(os.path.join(base_path, method, 'energy_avg.csv'))\n",
    "    df_time_avg = pd.read_csv(os.path.join(base_path, method, 'time_avg.csv'))\n",
    "    merged_df = pd.merge(df_energy_avg, df_time_avg, on='filename')\n",
    "    merged_df['method'] = method\n",
    "    all_data_list.append(merged_df)\n",
    "master_df = pd.concat(all_data_list, ignore_index=True)\n",
    "master_df = master_df.rename(columns={\n",
    "    'filename': 'benchmark', 'average_package (uJ)': 'energy_uJ', 'execution_time (s)': 'time_s'\n",
    "})\n",
    "\n",
    "# 2. Feature Engineering\n",
    "master_df['energy_per_second'] = master_df['energy_uJ'] / master_df['time_s']\n",
    "\n",
    "# 3. Define X and y, and Split the data\n",
    "features = ['energy_uJ', 'time_s', 'energy_per_second']\n",
    "X = master_df[features]\n",
    "y = master_df['method']\n",
    "X_train, X_test, y_train, y_test = train_test_split(X, y, test_size=0.2, random_state=42)\n",
    "\n",
    "# 4. Train the Final Random Forest Model\n",
    "final_model = RandomForestClassifier(n_estimators=100, random_state=42)\n",
    "final_model.fit(X_train, y_train)\n",
    "\n",
    "# 5. Save the trained model to a file\n",
    "joblib.dump(final_model, 'green_code_classifier.joblib')\n",
    "\n",
    "# 6. Final accuracy check\n",
    "y_pred = final_model.predict(X_test)\n",
    "accuracy = accuracy_score(y_test, y_pred)\n",
    "print(f\"Final Model Accuracy: {accuracy * 100:.2f}%\")\n",
    "print(\"\\nModel saved successfully as 'green_code_classifier.joblib'\")"
   ]
  },
  {
   "cell_type": "code",
   "execution_count": 7,
   "id": "844c2486",
   "metadata": {},
   "outputs": [
    {
     "name": "stdout",
     "output_type": "stream",
     "text": [
      "* Running on local URL:  http://127.0.0.1:7860\n"
     ]
    },
    {
     "ename": "OSError",
     "evalue": "[WinError 225] Operation did not complete successfully because the file contains a virus or potentially unwanted software: 'C:\\\\Users\\\\Chaya\\\\.cache\\\\huggingface\\\\gradio\\\\frpc\\\\frpc_windows_amd64_v0.3'",
     "output_type": "error",
     "traceback": [
      "\u001b[1;31m---------------------------------------------------------------------------\u001b[0m",
      "\u001b[1;31mOSError\u001b[0m                                   Traceback (most recent call last)",
      "File \u001b[1;32mc:\\Users\\Chaya\\anaconda3\\Lib\\site-packages\\gradio\\blocks.py:2921\u001b[0m, in \u001b[0;36mBlocks.launch\u001b[1;34m(self, inline, inbrowser, share, debug, max_threads, auth, auth_message, prevent_thread_lock, show_error, server_name, server_port, height, width, favicon_path, ssl_keyfile, ssl_certfile, ssl_keyfile_password, ssl_verify, quiet, show_api, allowed_paths, blocked_paths, root_path, app_kwargs, state_session_capacity, share_server_address, share_server_protocol, share_server_tls_certificate, auth_dependency, max_file_size, enable_monitoring, strict_cors, node_server_name, node_port, ssr_mode, pwa, mcp_server, _frontend, i18n)\u001b[0m\n\u001b[0;32m   2920\u001b[0m \u001b[38;5;28;01mif\u001b[39;00m \u001b[38;5;28mself\u001b[39m\u001b[38;5;241m.\u001b[39mshare_url \u001b[38;5;129;01mis\u001b[39;00m \u001b[38;5;28;01mNone\u001b[39;00m:\n\u001b[1;32m-> 2921\u001b[0m     share_url \u001b[38;5;241m=\u001b[39m networking\u001b[38;5;241m.\u001b[39msetup_tunnel(\n\u001b[0;32m   2922\u001b[0m         local_host\u001b[38;5;241m=\u001b[39m\u001b[38;5;28mself\u001b[39m\u001b[38;5;241m.\u001b[39mserver_name,\n\u001b[0;32m   2923\u001b[0m         local_port\u001b[38;5;241m=\u001b[39m\u001b[38;5;28mself\u001b[39m\u001b[38;5;241m.\u001b[39mserver_port,\n\u001b[0;32m   2924\u001b[0m         share_token\u001b[38;5;241m=\u001b[39m\u001b[38;5;28mself\u001b[39m\u001b[38;5;241m.\u001b[39mshare_token,\n\u001b[0;32m   2925\u001b[0m         share_server_address\u001b[38;5;241m=\u001b[39m\u001b[38;5;28mself\u001b[39m\u001b[38;5;241m.\u001b[39mshare_server_address,\n\u001b[0;32m   2926\u001b[0m         share_server_tls_certificate\u001b[38;5;241m=\u001b[39m\u001b[38;5;28mself\u001b[39m\u001b[38;5;241m.\u001b[39mshare_server_tls_certificate,\n\u001b[0;32m   2927\u001b[0m     )\n\u001b[0;32m   2928\u001b[0m     parsed_url \u001b[38;5;241m=\u001b[39m urlparse(share_url)\n",
      "File \u001b[1;32mc:\\Users\\Chaya\\anaconda3\\Lib\\site-packages\\gradio\\networking.py:59\u001b[0m, in \u001b[0;36msetup_tunnel\u001b[1;34m(local_host, local_port, share_token, share_server_address, share_server_tls_certificate)\u001b[0m\n\u001b[0;32m     51\u001b[0m tunnel \u001b[38;5;241m=\u001b[39m Tunnel(\n\u001b[0;32m     52\u001b[0m     remote_host,\n\u001b[0;32m     53\u001b[0m     remote_port,\n\u001b[1;32m   (...)\u001b[0m\n\u001b[0;32m     57\u001b[0m     share_server_tls_certificate,\n\u001b[0;32m     58\u001b[0m )\n\u001b[1;32m---> 59\u001b[0m address \u001b[38;5;241m=\u001b[39m tunnel\u001b[38;5;241m.\u001b[39mstart_tunnel()\n\u001b[0;32m     60\u001b[0m \u001b[38;5;28;01mreturn\u001b[39;00m address\n",
      "File \u001b[1;32mc:\\Users\\Chaya\\anaconda3\\Lib\\site-packages\\gradio\\tunneling.py:114\u001b[0m, in \u001b[0;36mTunnel.start_tunnel\u001b[1;34m(self)\u001b[0m\n\u001b[0;32m    113\u001b[0m \u001b[38;5;28mself\u001b[39m\u001b[38;5;241m.\u001b[39mdownload_binary()\n\u001b[1;32m--> 114\u001b[0m \u001b[38;5;28mself\u001b[39m\u001b[38;5;241m.\u001b[39murl \u001b[38;5;241m=\u001b[39m \u001b[38;5;28mself\u001b[39m\u001b[38;5;241m.\u001b[39m_start_tunnel(BINARY_PATH)\n\u001b[0;32m    115\u001b[0m \u001b[38;5;28;01mreturn\u001b[39;00m \u001b[38;5;28mself\u001b[39m\u001b[38;5;241m.\u001b[39murl\n",
      "File \u001b[1;32mc:\\Users\\Chaya\\anaconda3\\Lib\\site-packages\\gradio\\tunneling.py:150\u001b[0m, in \u001b[0;36mTunnel._start_tunnel\u001b[1;34m(self, binary)\u001b[0m\n\u001b[0;32m    143\u001b[0m     command\u001b[38;5;241m.\u001b[39mextend(\n\u001b[0;32m    144\u001b[0m         [\n\u001b[0;32m    145\u001b[0m             \u001b[38;5;124m\"\u001b[39m\u001b[38;5;124m--tls_enable\u001b[39m\u001b[38;5;124m\"\u001b[39m,\n\u001b[1;32m   (...)\u001b[0m\n\u001b[0;32m    148\u001b[0m         ]\n\u001b[0;32m    149\u001b[0m     )\n\u001b[1;32m--> 150\u001b[0m \u001b[38;5;28mself\u001b[39m\u001b[38;5;241m.\u001b[39mproc \u001b[38;5;241m=\u001b[39m subprocess\u001b[38;5;241m.\u001b[39mPopen(\n\u001b[0;32m    151\u001b[0m     command, stdout\u001b[38;5;241m=\u001b[39msubprocess\u001b[38;5;241m.\u001b[39mPIPE, stderr\u001b[38;5;241m=\u001b[39msubprocess\u001b[38;5;241m.\u001b[39mPIPE\n\u001b[0;32m    152\u001b[0m )\n\u001b[0;32m    153\u001b[0m atexit\u001b[38;5;241m.\u001b[39mregister(\u001b[38;5;28mself\u001b[39m\u001b[38;5;241m.\u001b[39mkill)\n",
      "File \u001b[1;32mc:\\Users\\Chaya\\anaconda3\\Lib\\subprocess.py:1039\u001b[0m, in \u001b[0;36mPopen.__init__\u001b[1;34m(self, args, bufsize, executable, stdin, stdout, stderr, preexec_fn, close_fds, shell, cwd, env, universal_newlines, startupinfo, creationflags, restore_signals, start_new_session, pass_fds, user, group, extra_groups, encoding, errors, text, umask, pipesize, process_group)\u001b[0m\n\u001b[0;32m   1036\u001b[0m             \u001b[38;5;28mself\u001b[39m\u001b[38;5;241m.\u001b[39mstderr \u001b[38;5;241m=\u001b[39m io\u001b[38;5;241m.\u001b[39mTextIOWrapper(\u001b[38;5;28mself\u001b[39m\u001b[38;5;241m.\u001b[39mstderr,\n\u001b[0;32m   1037\u001b[0m                     encoding\u001b[38;5;241m=\u001b[39mencoding, errors\u001b[38;5;241m=\u001b[39merrors)\n\u001b[1;32m-> 1039\u001b[0m     \u001b[38;5;28mself\u001b[39m\u001b[38;5;241m.\u001b[39m_execute_child(args, executable, preexec_fn, close_fds,\n\u001b[0;32m   1040\u001b[0m                         pass_fds, cwd, env,\n\u001b[0;32m   1041\u001b[0m                         startupinfo, creationflags, shell,\n\u001b[0;32m   1042\u001b[0m                         p2cread, p2cwrite,\n\u001b[0;32m   1043\u001b[0m                         c2pread, c2pwrite,\n\u001b[0;32m   1044\u001b[0m                         errread, errwrite,\n\u001b[0;32m   1045\u001b[0m                         restore_signals,\n\u001b[0;32m   1046\u001b[0m                         gid, gids, uid, umask,\n\u001b[0;32m   1047\u001b[0m                         start_new_session, process_group)\n\u001b[0;32m   1048\u001b[0m \u001b[38;5;28;01mexcept\u001b[39;00m:\n\u001b[0;32m   1049\u001b[0m     \u001b[38;5;66;03m# Cleanup if the child failed starting.\u001b[39;00m\n",
      "File \u001b[1;32mc:\\Users\\Chaya\\anaconda3\\Lib\\subprocess.py:1554\u001b[0m, in \u001b[0;36mPopen._execute_child\u001b[1;34m(self, args, executable, preexec_fn, close_fds, pass_fds, cwd, env, startupinfo, creationflags, shell, p2cread, p2cwrite, c2pread, c2pwrite, errread, errwrite, unused_restore_signals, unused_gid, unused_gids, unused_uid, unused_umask, unused_start_new_session, unused_process_group)\u001b[0m\n\u001b[0;32m   1553\u001b[0m \u001b[38;5;28;01mtry\u001b[39;00m:\n\u001b[1;32m-> 1554\u001b[0m     hp, ht, pid, tid \u001b[38;5;241m=\u001b[39m _winapi\u001b[38;5;241m.\u001b[39mCreateProcess(executable, args,\n\u001b[0;32m   1555\u001b[0m                              \u001b[38;5;66;03m# no special security\u001b[39;00m\n\u001b[0;32m   1556\u001b[0m                              \u001b[38;5;28;01mNone\u001b[39;00m, \u001b[38;5;28;01mNone\u001b[39;00m,\n\u001b[0;32m   1557\u001b[0m                              \u001b[38;5;28mint\u001b[39m(\u001b[38;5;129;01mnot\u001b[39;00m close_fds),\n\u001b[0;32m   1558\u001b[0m                              creationflags,\n\u001b[0;32m   1559\u001b[0m                              env,\n\u001b[0;32m   1560\u001b[0m                              cwd,\n\u001b[0;32m   1561\u001b[0m                              startupinfo)\n\u001b[0;32m   1562\u001b[0m \u001b[38;5;28;01mfinally\u001b[39;00m:\n\u001b[0;32m   1563\u001b[0m     \u001b[38;5;66;03m# Child is launched. Close the parent's copy of those pipe\u001b[39;00m\n\u001b[0;32m   1564\u001b[0m     \u001b[38;5;66;03m# handles that only the child should have open.  You need\u001b[39;00m\n\u001b[1;32m   (...)\u001b[0m\n\u001b[0;32m   1567\u001b[0m     \u001b[38;5;66;03m# pipe will not close when the child process exits and the\u001b[39;00m\n\u001b[0;32m   1568\u001b[0m     \u001b[38;5;66;03m# ReadFile will hang.\u001b[39;00m\n",
      "\u001b[1;31mOSError\u001b[0m: [WinError 225] Operation did not complete successfully because the file contains a virus or potentially unwanted software",
      "\nDuring handling of the above exception, another exception occurred:\n",
      "\u001b[1;31mOSError\u001b[0m                                   Traceback (most recent call last)",
      "Cell \u001b[1;32mIn[7], line 35\u001b[0m\n\u001b[0;32m     16\u001b[0m interface \u001b[38;5;241m=\u001b[39m gr\u001b[38;5;241m.\u001b[39mInterface(\n\u001b[0;32m     17\u001b[0m     fn\u001b[38;5;241m=\u001b[39mpredict_method,\n\u001b[0;32m     18\u001b[0m     inputs\u001b[38;5;241m=\u001b[39m[\n\u001b[1;32m   (...)\u001b[0m\n\u001b[0;32m     31\u001b[0m \u001b[38;5;124m    \u001b[39m\u001b[38;5;124m\"\"\"\u001b[39m\n\u001b[0;32m     32\u001b[0m )\n\u001b[0;32m     34\u001b[0m \u001b[38;5;66;03m# 4. Launch the App\u001b[39;00m\n\u001b[1;32m---> 35\u001b[0m interface\u001b[38;5;241m.\u001b[39mlaunch(share\u001b[38;5;241m=\u001b[39m\u001b[38;5;28;01mTrue\u001b[39;00m)\n",
      "File \u001b[1;32mc:\\Users\\Chaya\\anaconda3\\Lib\\site-packages\\gradio\\blocks.py:2946\u001b[0m, in \u001b[0;36mBlocks.launch\u001b[1;34m(self, inline, inbrowser, share, debug, max_threads, auth, auth_message, prevent_thread_lock, show_error, server_name, server_port, height, width, favicon_path, ssl_keyfile, ssl_certfile, ssl_keyfile_password, ssl_verify, quiet, show_api, allowed_paths, blocked_paths, root_path, app_kwargs, state_session_capacity, share_server_address, share_server_protocol, share_server_tls_certificate, auth_dependency, max_file_size, enable_monitoring, strict_cors, node_server_name, node_port, ssr_mode, pwa, mcp_server, _frontend, i18n)\u001b[0m\n\u001b[0;32m   2942\u001b[0m \u001b[38;5;28;01mif\u001b[39;00m \u001b[38;5;28misinstance\u001b[39m(e, ChecksumMismatchError):\n\u001b[0;32m   2943\u001b[0m     \u001b[38;5;28mprint\u001b[39m(\n\u001b[0;32m   2944\u001b[0m         \u001b[38;5;124mf\u001b[39m\u001b[38;5;124m\"\u001b[39m\u001b[38;5;130;01m\\n\u001b[39;00m\u001b[38;5;124mCould not create share link. Checksum mismatch for file: \u001b[39m\u001b[38;5;132;01m{\u001b[39;00mBINARY_PATH\u001b[38;5;132;01m}\u001b[39;00m\u001b[38;5;124m.\u001b[39m\u001b[38;5;124m\"\u001b[39m\n\u001b[0;32m   2945\u001b[0m     )\n\u001b[1;32m-> 2946\u001b[0m \u001b[38;5;28;01melif\u001b[39;00m Path(BINARY_PATH)\u001b[38;5;241m.\u001b[39mexists():\n\u001b[0;32m   2947\u001b[0m     \u001b[38;5;28mprint\u001b[39m(\n\u001b[0;32m   2948\u001b[0m         \u001b[38;5;124m\"\u001b[39m\u001b[38;5;130;01m\\n\u001b[39;00m\u001b[38;5;124mCould not create share link. Please check your internet connection or our status page: https://status.gradio.app.\u001b[39m\u001b[38;5;124m\"\u001b[39m\n\u001b[0;32m   2949\u001b[0m     )\n\u001b[0;32m   2950\u001b[0m \u001b[38;5;28;01melse\u001b[39;00m:\n",
      "File \u001b[1;32mc:\\Users\\Chaya\\anaconda3\\Lib\\pathlib\\_abc.py:450\u001b[0m, in \u001b[0;36mPathBase.exists\u001b[1;34m(self, follow_symlinks)\u001b[0m\n\u001b[0;32m    443\u001b[0m \u001b[38;5;250m\u001b[39m\u001b[38;5;124;03m\"\"\"\u001b[39;00m\n\u001b[0;32m    444\u001b[0m \u001b[38;5;124;03mWhether this path exists.\u001b[39;00m\n\u001b[0;32m    445\u001b[0m \n\u001b[0;32m    446\u001b[0m \u001b[38;5;124;03mThis method normally follows symlinks; to check whether a symlink exists,\u001b[39;00m\n\u001b[0;32m    447\u001b[0m \u001b[38;5;124;03madd the argument follow_symlinks=False.\u001b[39;00m\n\u001b[0;32m    448\u001b[0m \u001b[38;5;124;03m\"\"\"\u001b[39;00m\n\u001b[0;32m    449\u001b[0m \u001b[38;5;28;01mtry\u001b[39;00m:\n\u001b[1;32m--> 450\u001b[0m     \u001b[38;5;28mself\u001b[39m\u001b[38;5;241m.\u001b[39mstat(follow_symlinks\u001b[38;5;241m=\u001b[39mfollow_symlinks)\n\u001b[0;32m    451\u001b[0m \u001b[38;5;28;01mexcept\u001b[39;00m \u001b[38;5;167;01mOSError\u001b[39;00m \u001b[38;5;28;01mas\u001b[39;00m e:\n\u001b[0;32m    452\u001b[0m     \u001b[38;5;28;01mif\u001b[39;00m \u001b[38;5;129;01mnot\u001b[39;00m _ignore_error(e):\n",
      "File \u001b[1;32mc:\\Users\\Chaya\\anaconda3\\Lib\\pathlib\\_local.py:515\u001b[0m, in \u001b[0;36mPath.stat\u001b[1;34m(self, follow_symlinks)\u001b[0m\n\u001b[0;32m    510\u001b[0m \u001b[38;5;28;01mdef\u001b[39;00m\u001b[38;5;250m \u001b[39m\u001b[38;5;21mstat\u001b[39m(\u001b[38;5;28mself\u001b[39m, \u001b[38;5;241m*\u001b[39m, follow_symlinks\u001b[38;5;241m=\u001b[39m\u001b[38;5;28;01mTrue\u001b[39;00m):\n\u001b[0;32m    511\u001b[0m \u001b[38;5;250m    \u001b[39m\u001b[38;5;124;03m\"\"\"\u001b[39;00m\n\u001b[0;32m    512\u001b[0m \u001b[38;5;124;03m    Return the result of the stat() system call on this path, like\u001b[39;00m\n\u001b[0;32m    513\u001b[0m \u001b[38;5;124;03m    os.stat() does.\u001b[39;00m\n\u001b[0;32m    514\u001b[0m \u001b[38;5;124;03m    \"\"\"\u001b[39;00m\n\u001b[1;32m--> 515\u001b[0m     \u001b[38;5;28;01mreturn\u001b[39;00m os\u001b[38;5;241m.\u001b[39mstat(\u001b[38;5;28mself\u001b[39m, follow_symlinks\u001b[38;5;241m=\u001b[39mfollow_symlinks)\n",
      "\u001b[1;31mOSError\u001b[0m: [WinError 225] Operation did not complete successfully because the file contains a virus or potentially unwanted software: 'C:\\\\Users\\\\Chaya\\\\.cache\\\\huggingface\\\\gradio\\\\frpc\\\\frpc_windows_amd64_v0.3'"
     ]
    }
   ],
   "source": [
    "import gradio as gr\n",
    "import joblib\n",
    "import pandas as pd\n",
    "\n",
    "# 1. Load the saved model from the file\n",
    "model = joblib.load('green_code_classifier.joblib')\n",
    "\n",
    "# 2. Define the prediction function\n",
    "def predict_method(energy, time, energy_per_second):\n",
    "    input_df = pd.DataFrame([[energy, time, energy_per_second]], \n",
    "                            columns=['energy_uJ', 'time_s', 'energy_per_second'])\n",
    "    prediction = model.predict(input_df)[0]\n",
    "    return f\"The predicted method is: {prediction}\"\n",
    "\n",
    "# 3. Create the Gradio Interface\n",
    "interface = gr.Interface(\n",
    "    fn=predict_method,\n",
    "    inputs=[\n",
    "        gr.Number(label=\"Energy Consumption (μJ)\"),\n",
    "        gr.Number(label=\"Execution Time (s)\"),\n",
    "        gr.Number(label=\"Energy Per Second (μJ/s)\")\n",
    "    ],\n",
    "    outputs=gr.Textbox(label=\"Model Prediction\"),\n",
    "    title=\"🍃 Green Code Classifier [Proof of Concept]\",\n",
    "    description=\"\"\"\n",
    "    ### 🚀 MLOps Deployment Demonstration\n",
    "    This application demonstrates a functional deployment of a machine learning model.\n",
    "\n",
    "    **IMPORTANT NOTE:** The underlying model has a **low accuracy of ~13%** due to the limited size of the training dataset. \n",
    "    The predictions are for **demonstration purposes only** and should not be used for real-world decisions.\n",
    "    \"\"\"\n",
    ")\n",
    "\n",
    "# 4. Launch the App\n",
    "interface.launch(share=True) # share=True gives you a public link"
   ]
  }
 ],
 "metadata": {
  "kernelspec": {
   "display_name": "base",
   "language": "python",
   "name": "python3"
  },
  "language_info": {
   "codemirror_mode": {
    "name": "ipython",
    "version": 3
   },
   "file_extension": ".py",
   "mimetype": "text/x-python",
   "name": "python",
   "nbconvert_exporter": "python",
   "pygments_lexer": "ipython3",
   "version": "3.13.5"
  }
 },
 "nbformat": 4,
 "nbformat_minor": 5
}
